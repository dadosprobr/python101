{
 "cells": [
  {
   "cell_type": "markdown",
   "metadata": {},
   "source": [
    "# Python 101: breve intro a Python 3 para análise de dados\n",
    "\n",
    "Este notebook aborda apenas conceitos da linguagem Python 3 e sua biblioteca padrão. Bibliotecas especializadas como `numpy`, `pandas` e `matplotlib` são temas de outros notebooks.\n",
    "\n",
    "## Sumário\n",
    "\n",
    "* [Python 2 x Python 3](#Python-2-x-Python-3)\n",
    "* [Aprenda a aprender Python](#Aprenda-a-aprender-Python)"
   ]
  },
  {
   "cell_type": "markdown",
   "metadata": {},
   "source": [
    "## [Python 2 x Python 3](#Sumário)\n",
    "\n",
    "Durante 17 anos, até 2008, a compatibilidade com versões anteriores era uma prioridade na comunidade Python, e continua sendo.\n",
    "\n",
    "Porém, excepcionalmente em 2008 Guido van Rossum decidiu que era hora de lançar uma versão 3.0  com mudanças que incompatíveis para resolver problemas causados por decisões que se mostraram erradas com o passar do tempo.\n",
    "\n",
    "As diferenças que mais frequentemente atrapalham os iniciantes na linguagem são:\n",
    "\n",
    "* A função `print`\n",
    "* Divisão entre inteiros\n",
    "* Texto versus bytes\n",
    "\n",
    "### A função `print`\n",
    "\n",
    "Em Python 3, `print` é uma **função**, e não uma instrução (statement). Com isso ela se tornou bem mais flexível. Porém agora é obrigatório colocar parêntesis ao redor dos argumentos:"
   ]
  },
  {
   "cell_type": "code",
   "execution_count": null,
   "metadata": {},
   "outputs": [],
   "source": [
    "print('Olá mundo!')"
   ]
  },
  {
   "cell_type": "markdown",
   "metadata": {},
   "source": [
    "### Divisão\n",
    "\n",
    "O operador de divisão **sempre** devolve um `float`, mesmo quando ambos operandos são `int` e o resultado é \"redondo\":"
   ]
  },
  {
   "cell_type": "code",
   "execution_count": null,
   "metadata": {},
   "outputs": [],
   "source": [
    "6 / 2"
   ]
  },
  {
   "cell_type": "markdown",
   "metadata": {},
   "source": [
    "Caso precise calcular divisões inteiras, use o operador `//`. Nesse caso, se os operandos forem `int`, o resultado tambem será:"
   ]
  },
  {
   "cell_type": "code",
   "execution_count": null,
   "metadata": {},
   "outputs": [],
   "source": [
    "6 // 2"
   ]
  },
  {
   "cell_type": "code",
   "execution_count": null,
   "metadata": {},
   "outputs": [],
   "source": [
    "7. // 2"
   ]
  },
  {
   "cell_type": "code",
   "execution_count": null,
   "metadata": {},
   "outputs": [],
   "source": [
    "2 // 3"
   ]
  },
  {
   "cell_type": "markdown",
   "metadata": {},
   "source": [
    "Uma função embudida útil é `divmod`, porque muitas vezes quando precisamos usar `//` também quermos o resto da divisão, ou módulo `%`:"
   ]
  },
  {
   "cell_type": "code",
   "execution_count": null,
   "metadata": {},
   "outputs": [],
   "source": [
    "divmod(7, 2)"
   ]
  },
  {
   "cell_type": "code",
   "execution_count": null,
   "metadata": {
    "collapsed": true
   },
   "outputs": [],
   "source": [
    "a, b = divmod(14, 3)"
   ]
  },
  {
   "cell_type": "code",
   "execution_count": null,
   "metadata": {},
   "outputs": [],
   "source": [
    "print(a, b)"
   ]
  },
  {
   "cell_type": "markdown",
   "metadata": {},
   "source": [
    "### Texto versus bytes\n",
    "\n",
    "Em Python 2 o tipo `str` na verdade lida com bytes. Para lidar com texto Unicode (ou qualquer coisa que não seja apenas ASCII), é preciso usar o tipo `unicode` em Python 2.\n",
    "\n",
    "Em Python 3 o tipo `str` agora lida com Unicode:\n"
   ]
  },
  {
   "cell_type": "code",
   "execution_count": null,
   "metadata": {},
   "outputs": [],
   "source": [
    "s = 'café'\n",
    "len(s)"
   ]
  },
  {
   "cell_type": "markdown",
   "metadata": {},
   "source": [
    "Construindo uma `list` a partir de uma `str` obtemos uma lista de caracteres (strings de tamanho 1):"
   ]
  },
  {
   "cell_type": "code",
   "execution_count": null,
   "metadata": {},
   "outputs": [],
   "source": [
    "list(s)"
   ]
  },
  {
   "cell_type": "markdown",
   "metadata": {},
   "source": [
    "Para lidar com bytes em Python 3, usa-se o tipo `bytes`, cujas constantes literais têm que ser prefixadas com `b` e só podem conter caracteres ASCII ou códigos hexadecimais de `\\x00` a `\\xFF`:"
   ]
  },
  {
   "cell_type": "code",
   "execution_count": null,
   "metadata": {},
   "outputs": [],
   "source": [
    "b = s.encode('utf8')\n",
    "b"
   ]
  },
  {
   "cell_type": "code",
   "execution_count": null,
   "metadata": {},
   "outputs": [],
   "source": [
    "len(b)"
   ]
  },
  {
   "cell_type": "markdown",
   "metadata": {},
   "source": [
    "Um objeto bytes pode ser entendido como uma lista de inteiros na faixa de 0 a 255 decimal, como podemos notar se construímos uma lista:"
   ]
  },
  {
   "cell_type": "code",
   "execution_count": null,
   "metadata": {},
   "outputs": [],
   "source": [
    "list(b)"
   ]
  },
  {
   "cell_type": "markdown",
   "metadata": {},
   "source": [
    "Para obter uma `str` a partir de `bytes`, use o método `decode`:"
   ]
  },
  {
   "cell_type": "code",
   "execution_count": null,
   "metadata": {},
   "outputs": [],
   "source": [
    "b.decode('utf8')"
   ]
  },
  {
   "cell_type": "markdown",
   "metadata": {},
   "source": [
    "Ao ler um arquivo em Python 3, você recebe `str` por padrão, mas é assumida a codificação UTF-8:"
   ]
  },
  {
   "cell_type": "code",
   "execution_count": null,
   "metadata": {},
   "outputs": [],
   "source": [
    "conteúdo = open('dados/poema.txt').read()\n",
    "type(conteúdo)"
   ]
  },
  {
   "cell_type": "code",
   "execution_count": null,
   "metadata": {},
   "outputs": [],
   "source": [
    "print(conteúdo)"
   ]
  },
  {
   "cell_type": "code",
   "execution_count": null,
   "metadata": {},
   "outputs": [],
   "source": [
    "try:\n",
    "    conteúdo = open('dados/poema-latin1.txt').read()\n",
    "except UnicodeDecodeError:\n",
    "    print('*** Isso gera UnicodeDecodeError, porque o arquivo está na codificação Latin 1')\n"
   ]
  },
  {
   "cell_type": "markdown",
   "metadata": {},
   "source": [
    "Para ler um texto que não seja UTF-8, especifique o `encoding` na função `open`:"
   ]
  },
  {
   "cell_type": "code",
   "execution_count": null,
   "metadata": {},
   "outputs": [],
   "source": [
    "conteúdo = open('dados/poema-latin1.txt', encoding='latin-1').read()\n",
    "print(conteúdo)"
   ]
  },
  {
   "cell_type": "markdown",
   "metadata": {},
   "source": [
    "Para ler um arquivo binário, use o modo `'rb'` na função `open`. O conteúdo então será acessado como `bytes`:"
   ]
  },
  {
   "cell_type": "code",
   "execution_count": null,
   "metadata": {},
   "outputs": [],
   "source": [
    "print(open('dados/poema.txt', 'rb').read())"
   ]
  },
  {
   "cell_type": "markdown",
   "metadata": {},
   "source": [
    "# [Aprenda a aprender Python](#Sumário)"
   ]
  },
  {
   "cell_type": "markdown",
   "metadata": {},
   "source": [
    "## Saiba a diferença entre `repr` e `str`"
   ]
  },
  {
   "cell_type": "markdown",
   "metadata": {},
   "source": [
    "## Use as funções `type`, `dir` e `help` para explorar objetos"
   ]
  },
  {
   "cell_type": "markdown",
   "metadata": {},
   "source": [
    "## Conheça os tipos `builtin`"
   ]
  },
  {
   "cell_type": "markdown",
   "metadata": {},
   "source": [
    "## Entenda o conceito de *iterável* e suas aplicações principais"
   ]
  },
  {
   "cell_type": "code",
   "execution_count": null,
   "metadata": {
    "collapsed": true
   },
   "outputs": [],
   "source": []
  }
 ],
 "metadata": {
  "kernelspec": {
   "display_name": "Python 3",
   "language": "python",
   "name": "python3"
  },
  "language_info": {
   "codemirror_mode": {
    "name": "ipython",
    "version": 3
   },
   "file_extension": ".py",
   "mimetype": "text/x-python",
   "name": "python",
   "nbconvert_exporter": "python",
   "pygments_lexer": "ipython3",
   "version": "3.6.1"
  }
 },
 "nbformat": 4,
 "nbformat_minor": 2
}
