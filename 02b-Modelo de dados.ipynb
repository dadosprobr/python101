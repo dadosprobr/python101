{
 "cells": [
  {
   "cell_type": "code",
   "execution_count": 1,
   "metadata": {},
   "outputs": [
    {
     "data": {
      "text/plain": [
       "0.6666666666666666"
      ]
     },
     "execution_count": 1,
     "metadata": {},
     "output_type": "execute_result"
    }
   ],
   "source": [
    "2 / 3"
   ]
  },
  {
   "cell_type": "code",
   "execution_count": 2,
   "metadata": {},
   "outputs": [
    {
     "data": {
      "text/plain": [
       "4"
      ]
     },
     "execution_count": 2,
     "metadata": {},
     "output_type": "execute_result"
    }
   ],
   "source": [
    "s = u'café'\n",
    "len(s)"
   ]
  },
  {
   "cell_type": "markdown",
   "metadata": {},
   "source": [
    "`str` -> `bytes`\n",
    "\n",
    "`unicode` -> `str`"
   ]
  },
  {
   "cell_type": "code",
   "execution_count": 3,
   "metadata": {},
   "outputs": [
    {
     "data": {
      "text/plain": [
       "b'caf\\xc3\\xa9'"
      ]
     },
     "execution_count": 3,
     "metadata": {},
     "output_type": "execute_result"
    }
   ],
   "source": [
    "bu = s.encode('utf-8')\n",
    "bu"
   ]
  },
  {
   "cell_type": "code",
   "execution_count": 4,
   "metadata": {},
   "outputs": [
    {
     "data": {
      "text/plain": [
       "['c', 'a', 'f', 'é']"
      ]
     },
     "execution_count": 4,
     "metadata": {},
     "output_type": "execute_result"
    }
   ],
   "source": [
    "list(s)"
   ]
  },
  {
   "cell_type": "code",
   "execution_count": 5,
   "metadata": {},
   "outputs": [
    {
     "data": {
      "text/plain": [
       "[99, 97, 102, 195, 169]"
      ]
     },
     "execution_count": 5,
     "metadata": {},
     "output_type": "execute_result"
    }
   ],
   "source": [
    "list(bu)"
   ]
  },
  {
   "cell_type": "code",
   "execution_count": 6,
   "metadata": {},
   "outputs": [
    {
     "data": {
      "text/plain": [
       "'a'"
      ]
     },
     "execution_count": 6,
     "metadata": {},
     "output_type": "execute_result"
    }
   ],
   "source": [
    "s[1]"
   ]
  },
  {
   "cell_type": "code",
   "execution_count": 7,
   "metadata": {},
   "outputs": [
    {
     "data": {
      "text/plain": [
       "'é'"
      ]
     },
     "execution_count": 7,
     "metadata": {},
     "output_type": "execute_result"
    }
   ],
   "source": [
    "s[-1]"
   ]
  },
  {
   "cell_type": "code",
   "execution_count": 8,
   "metadata": {},
   "outputs": [
    {
     "data": {
      "text/plain": [
       "169"
      ]
     },
     "execution_count": 8,
     "metadata": {},
     "output_type": "execute_result"
    }
   ],
   "source": [
    "bu[-1]"
   ]
  },
  {
   "cell_type": "code",
   "execution_count": 9,
   "metadata": {},
   "outputs": [
    {
     "data": {
      "text/plain": [
       "'Thought'"
      ]
     },
     "execution_count": 9,
     "metadata": {},
     "output_type": "execute_result"
    }
   ],
   "source": [
    "tw = 'ThoughtWorks'\n",
    "tw[:7]"
   ]
  },
  {
   "cell_type": "code",
   "execution_count": 10,
   "metadata": {},
   "outputs": [
    {
     "data": {
      "text/plain": [
       "'Works'"
      ]
     },
     "execution_count": 10,
     "metadata": {},
     "output_type": "execute_result"
    }
   ],
   "source": [
    "tw[7:]"
   ]
  },
  {
   "cell_type": "code",
   "execution_count": 11,
   "metadata": {},
   "outputs": [
    {
     "data": {
      "text/plain": [
       "'ought'"
      ]
     },
     "execution_count": 11,
     "metadata": {},
     "output_type": "execute_result"
    }
   ],
   "source": [
    "tw[2:7]"
   ]
  },
  {
   "cell_type": "code",
   "execution_count": 12,
   "metadata": {},
   "outputs": [
    {
     "data": {
      "text/plain": [
       "'W'"
      ]
     },
     "execution_count": 12,
     "metadata": {},
     "output_type": "execute_result"
    }
   ],
   "source": [
    "tw[7]"
   ]
  },
  {
   "cell_type": "code",
   "execution_count": 13,
   "metadata": {},
   "outputs": [
    {
     "data": {
      "text/plain": [
       "'rks'"
      ]
     },
     "execution_count": 13,
     "metadata": {},
     "output_type": "execute_result"
    }
   ],
   "source": [
    "tw[-3:]"
   ]
  },
  {
   "cell_type": "code",
   "execution_count": 14,
   "metadata": {},
   "outputs": [
    {
     "data": {
      "text/plain": [
       "'ogto'"
      ]
     },
     "execution_count": 14,
     "metadata": {},
     "output_type": "execute_result"
    }
   ],
   "source": [
    "tw[2:9:2]"
   ]
  },
  {
   "cell_type": "code",
   "execution_count": 15,
   "metadata": {},
   "outputs": [
    {
     "data": {
      "text/plain": [
       "b'f\\xc3\\xa9'"
      ]
     },
     "execution_count": 15,
     "metadata": {},
     "output_type": "execute_result"
    }
   ],
   "source": [
    "bu[-3:]"
   ]
  },
  {
   "cell_type": "code",
   "execution_count": 16,
   "metadata": {},
   "outputs": [
    {
     "data": {
      "text/plain": [
       "(-23.0, 46.0)"
      ]
     },
     "execution_count": 16,
     "metadata": {},
     "output_type": "execute_result"
    }
   ],
   "source": [
    "from collections import namedtuple\n",
    "\n",
    "sp = (-23., 46.)\n",
    "sp"
   ]
  },
  {
   "cell_type": "code",
   "execution_count": 17,
   "metadata": {},
   "outputs": [
    {
     "data": {
      "text/plain": [
       "-23.0"
      ]
     },
     "execution_count": 17,
     "metadata": {},
     "output_type": "execute_result"
    }
   ],
   "source": [
    "lat, long = sp\n",
    "lat"
   ]
  },
  {
   "cell_type": "code",
   "execution_count": 18,
   "metadata": {},
   "outputs": [
    {
     "data": {
      "text/plain": [
       "46.0"
      ]
     },
     "execution_count": 18,
     "metadata": {},
     "output_type": "execute_result"
    }
   ],
   "source": [
    "long"
   ]
  },
  {
   "cell_type": "code",
   "execution_count": 19,
   "metadata": {},
   "outputs": [
    {
     "name": "stdout",
     "output_type": "stream",
     "text": [
      "ValueError('not enough values to unpack (expected 3, got 2)',)\n"
     ]
    }
   ],
   "source": [
    "try:\n",
    "    lat, long, a = sp\n",
    "except ValueError as exc:\n",
    "    print(repr(exc))"
   ]
  },
  {
   "cell_type": "code",
   "execution_count": 20,
   "metadata": {
    "collapsed": true
   },
   "outputs": [],
   "source": [
    "Coord = namedtuple('Coord', 'lat long')"
   ]
  },
  {
   "cell_type": "code",
   "execution_count": 21,
   "metadata": {
    "collapsed": true
   },
   "outputs": [],
   "source": [
    "sp = Coord(-23., 46.)"
   ]
  },
  {
   "cell_type": "code",
   "execution_count": 22,
   "metadata": {},
   "outputs": [
    {
     "data": {
      "text/plain": [
       "Coord(lat=-23.0, long=46.0)"
      ]
     },
     "execution_count": 22,
     "metadata": {},
     "output_type": "execute_result"
    }
   ],
   "source": [
    "sp"
   ]
  },
  {
   "cell_type": "code",
   "execution_count": 23,
   "metadata": {},
   "outputs": [
    {
     "data": {
      "text/plain": [
       "-23.0"
      ]
     },
     "execution_count": 23,
     "metadata": {},
     "output_type": "execute_result"
    }
   ],
   "source": [
    "sp.lat"
   ]
  },
  {
   "cell_type": "code",
   "execution_count": 24,
   "metadata": {
    "collapsed": true
   },
   "outputs": [],
   "source": [
    "a, b, *resto = [10, 20, 30, 40]"
   ]
  },
  {
   "cell_type": "code",
   "execution_count": 25,
   "metadata": {},
   "outputs": [
    {
     "data": {
      "text/plain": [
       "(10, 20, [30, 40])"
      ]
     },
     "execution_count": 25,
     "metadata": {},
     "output_type": "execute_result"
    }
   ],
   "source": [
    "a, b, resto"
   ]
  },
  {
   "cell_type": "code",
   "execution_count": 26,
   "metadata": {
    "collapsed": true
   },
   "outputs": [],
   "source": [
    "a, *meio, b = [10, 20, 30, 40]"
   ]
  },
  {
   "cell_type": "code",
   "execution_count": 27,
   "metadata": {},
   "outputs": [
    {
     "data": {
      "text/plain": [
       "(10, [20, 30], 40)"
      ]
     },
     "execution_count": 27,
     "metadata": {},
     "output_type": "execute_result"
    }
   ],
   "source": [
    "a, meio, b"
   ]
  },
  {
   "cell_type": "code",
   "execution_count": 28,
   "metadata": {
    "collapsed": true
   },
   "outputs": [],
   "source": [
    "Carta = namedtuple('Carta', 'naipe valor')"
   ]
  },
  {
   "cell_type": "code",
   "execution_count": 29,
   "metadata": {},
   "outputs": [
    {
     "data": {
      "text/plain": [
       "'café'"
      ]
     },
     "execution_count": 29,
     "metadata": {},
     "output_type": "execute_result"
    }
   ],
   "source": [
    "s"
   ]
  },
  {
   "cell_type": "code",
   "execution_count": 30,
   "metadata": {
    "collapsed": true
   },
   "outputs": [],
   "source": [
    "cods = [ord(c) for c in s]"
   ]
  },
  {
   "cell_type": "code",
   "execution_count": 31,
   "metadata": {},
   "outputs": [
    {
     "data": {
      "text/plain": [
       "[99, 97, 102, 233]"
      ]
     },
     "execution_count": 31,
     "metadata": {},
     "output_type": "execute_result"
    }
   ],
   "source": [
    "cods"
   ]
  },
  {
   "cell_type": "code",
   "execution_count": 32,
   "metadata": {},
   "outputs": [
    {
     "data": {
      "text/plain": [
       "[(0, 0), (0, 1), (0, 2), (1, 0), (1, 1), (1, 2)]"
      ]
     },
     "execution_count": 32,
     "metadata": {},
     "output_type": "execute_result"
    }
   ],
   "source": [
    "[(i, j) for i in range(2) for j in range(3)]"
   ]
  },
  {
   "cell_type": "code",
   "execution_count": 33,
   "metadata": {
    "collapsed": true
   },
   "outputs": [],
   "source": [
    "naipes = 'paus espadas ouros copas'.split()\n",
    "valores = list('A23456789') + ['10'] + list('JQK')"
   ]
  },
  {
   "cell_type": "code",
   "execution_count": 34,
   "metadata": {},
   "outputs": [
    {
     "data": {
      "text/plain": [
       "(['paus', 'espadas', 'ouros', 'copas'],\n",
       " ['A', '2', '3', '4', '5', '6', '7', '8', '9', '10', 'J', 'Q', 'K'])"
      ]
     },
     "execution_count": 34,
     "metadata": {},
     "output_type": "execute_result"
    }
   ],
   "source": [
    "naipes, valores"
   ]
  },
  {
   "cell_type": "code",
   "execution_count": 35,
   "metadata": {},
   "outputs": [
    {
     "data": {
      "text/plain": [
       "52"
      ]
     },
     "execution_count": 35,
     "metadata": {},
     "output_type": "execute_result"
    }
   ],
   "source": [
    "cartas = [Carta(n, v) for n in naipes for v in valores]\n",
    "len(cartas)"
   ]
  },
  {
   "cell_type": "code",
   "execution_count": null,
   "metadata": {
    "collapsed": true
   },
   "outputs": [],
   "source": []
  },
  {
   "cell_type": "code",
   "execution_count": 36,
   "metadata": {},
   "outputs": [],
   "source": [
    "class Baralho:\n",
    "    '''Representa um monte de cartas'''\n",
    "    naipes = 'paus espadas ouros copas'.split()\n",
    "    valores = list('A23456789') + ['10'] + list('JQK')\n",
    "    \n",
    "    def __init__(self, cartas=None):\n",
    "        if cartas is None:\n",
    "            self.cartas = [Carta(n, v) for n in Baralho.naipes\n",
    "                                   for v in Baralho.valores]\n",
    "        else:\n",
    "            self.cartas = list(cartas)\n",
    "        \n",
    "    def __len__(self):\n",
    "        return len(self.cartas)\n",
    "    \n",
    "    def __getitem__(self, índice):\n",
    "        if isinstance(índice, slice):\n",
    "            return Baralho(self.cartas[índice])\n",
    "        else:\n",
    "            return self.cartas[índice]\n",
    "    \n",
    "    def __setitem__(self, índice, item):\n",
    "        self.cartas[índice] = item\n",
    "        \n",
    "    def __repr__(self):\n",
    "        return '<Baralho com {} cartas>'.format(len(self))\n",
    "    \n",
    "    def __str__(self):\n",
    "        return '\\n'.join(['{} de {}'.format(v, n) \n",
    "                         for n, v in self.cartas])"
   ]
  },
  {
   "cell_type": "code",
   "execution_count": 37,
   "metadata": {},
   "outputs": [
    {
     "data": {
      "text/plain": [
       "<Baralho com 52 cartas>"
      ]
     },
     "execution_count": 37,
     "metadata": {},
     "output_type": "execute_result"
    }
   ],
   "source": [
    "b = Baralho()\n",
    "b"
   ]
  },
  {
   "cell_type": "code",
   "execution_count": 38,
   "metadata": {},
   "outputs": [
    {
     "name": "stdout",
     "output_type": "stream",
     "text": [
      "A de paus\n",
      "2 de paus\n",
      "3 de paus\n",
      "4 de paus\n",
      "5 de paus\n",
      "6 de paus\n",
      "7 de paus\n",
      "8 de paus\n",
      "9 de paus\n",
      "10 de paus\n",
      "J de paus\n",
      "Q de paus\n",
      "K de paus\n",
      "A de espadas\n",
      "2 de espadas\n",
      "3 de espadas\n",
      "4 de espadas\n",
      "5 de espadas\n",
      "6 de espadas\n",
      "7 de espadas\n",
      "8 de espadas\n",
      "9 de espadas\n",
      "10 de espadas\n",
      "J de espadas\n",
      "Q de espadas\n",
      "K de espadas\n",
      "A de ouros\n",
      "2 de ouros\n",
      "3 de ouros\n",
      "4 de ouros\n",
      "5 de ouros\n",
      "6 de ouros\n",
      "7 de ouros\n",
      "8 de ouros\n",
      "9 de ouros\n",
      "10 de ouros\n",
      "J de ouros\n",
      "Q de ouros\n",
      "K de ouros\n",
      "A de copas\n",
      "2 de copas\n",
      "3 de copas\n",
      "4 de copas\n",
      "5 de copas\n",
      "6 de copas\n",
      "7 de copas\n",
      "8 de copas\n",
      "9 de copas\n",
      "10 de copas\n",
      "J de copas\n",
      "Q de copas\n",
      "K de copas\n"
     ]
    }
   ],
   "source": [
    "print(b)"
   ]
  },
  {
   "cell_type": "code",
   "execution_count": 39,
   "metadata": {},
   "outputs": [
    {
     "data": {
      "text/plain": [
       "52"
      ]
     },
     "execution_count": 39,
     "metadata": {},
     "output_type": "execute_result"
    }
   ],
   "source": [
    "len(b)"
   ]
  },
  {
   "cell_type": "code",
   "execution_count": 40,
   "metadata": {},
   "outputs": [
    {
     "data": {
      "text/plain": [
       "Carta(naipe='copas', valor='K')"
      ]
     },
     "execution_count": 40,
     "metadata": {},
     "output_type": "execute_result"
    }
   ],
   "source": [
    "b[-1]"
   ]
  },
  {
   "cell_type": "code",
   "execution_count": 41,
   "metadata": {},
   "outputs": [
    {
     "data": {
      "text/plain": [
       "<Baralho com 5 cartas>"
      ]
     },
     "execution_count": 41,
     "metadata": {},
     "output_type": "execute_result"
    }
   ],
   "source": [
    "b[:5]"
   ]
  },
  {
   "cell_type": "code",
   "execution_count": 42,
   "metadata": {},
   "outputs": [
    {
     "name": "stdout",
     "output_type": "stream",
     "text": [
      "Carta(naipe='paus', valor='A')\n",
      "Carta(naipe='paus', valor='2')\n",
      "Carta(naipe='paus', valor='3')\n",
      "Carta(naipe='paus', valor='4')\n",
      "Carta(naipe='paus', valor='5')\n",
      "Carta(naipe='paus', valor='6')\n",
      "Carta(naipe='paus', valor='7')\n",
      "Carta(naipe='paus', valor='8')\n",
      "Carta(naipe='paus', valor='9')\n",
      "Carta(naipe='paus', valor='10')\n",
      "Carta(naipe='paus', valor='J')\n",
      "Carta(naipe='paus', valor='Q')\n",
      "Carta(naipe='paus', valor='K')\n",
      "Carta(naipe='espadas', valor='A')\n",
      "Carta(naipe='espadas', valor='2')\n",
      "Carta(naipe='espadas', valor='3')\n",
      "Carta(naipe='espadas', valor='4')\n",
      "Carta(naipe='espadas', valor='5')\n",
      "Carta(naipe='espadas', valor='6')\n",
      "Carta(naipe='espadas', valor='7')\n",
      "Carta(naipe='espadas', valor='8')\n",
      "Carta(naipe='espadas', valor='9')\n",
      "Carta(naipe='espadas', valor='10')\n",
      "Carta(naipe='espadas', valor='J')\n",
      "Carta(naipe='espadas', valor='Q')\n",
      "Carta(naipe='espadas', valor='K')\n",
      "Carta(naipe='ouros', valor='A')\n",
      "Carta(naipe='ouros', valor='2')\n",
      "Carta(naipe='ouros', valor='3')\n",
      "Carta(naipe='ouros', valor='4')\n",
      "Carta(naipe='ouros', valor='5')\n",
      "Carta(naipe='ouros', valor='6')\n",
      "Carta(naipe='ouros', valor='7')\n",
      "Carta(naipe='ouros', valor='8')\n",
      "Carta(naipe='ouros', valor='9')\n",
      "Carta(naipe='ouros', valor='10')\n",
      "Carta(naipe='ouros', valor='J')\n",
      "Carta(naipe='ouros', valor='Q')\n",
      "Carta(naipe='ouros', valor='K')\n",
      "Carta(naipe='copas', valor='A')\n",
      "Carta(naipe='copas', valor='2')\n",
      "Carta(naipe='copas', valor='3')\n",
      "Carta(naipe='copas', valor='4')\n",
      "Carta(naipe='copas', valor='5')\n",
      "Carta(naipe='copas', valor='6')\n",
      "Carta(naipe='copas', valor='7')\n",
      "Carta(naipe='copas', valor='8')\n",
      "Carta(naipe='copas', valor='9')\n",
      "Carta(naipe='copas', valor='10')\n",
      "Carta(naipe='copas', valor='J')\n",
      "Carta(naipe='copas', valor='Q')\n",
      "Carta(naipe='copas', valor='K')\n"
     ]
    }
   ],
   "source": [
    "for carta in b:\n",
    "    print(carta)"
   ]
  },
  {
   "cell_type": "code",
   "execution_count": 43,
   "metadata": {},
   "outputs": [
    {
     "data": {
      "text/plain": [
       "'Representa um monte de cartas'"
      ]
     },
     "execution_count": 43,
     "metadata": {},
     "output_type": "execute_result"
    }
   ],
   "source": [
    "Baralho.__doc__"
   ]
  },
  {
   "cell_type": "code",
   "execution_count": 44,
   "metadata": {},
   "outputs": [
    {
     "data": {
      "text/plain": [
       "['A', '2', '3', '4', '5', '6', '7', '8', '9', '10', 'J', 'Q', 'K']"
      ]
     },
     "execution_count": 44,
     "metadata": {},
     "output_type": "execute_result"
    }
   ],
   "source": [
    "valores"
   ]
  },
  {
   "cell_type": "code",
   "execution_count": 45,
   "metadata": {
    "collapsed": true
   },
   "outputs": [],
   "source": [
    "from random import choice, shuffle"
   ]
  },
  {
   "cell_type": "code",
   "execution_count": 46,
   "metadata": {},
   "outputs": [
    {
     "data": {
      "text/plain": [
       "Carta(naipe='copas', valor='J')"
      ]
     },
     "execution_count": 46,
     "metadata": {},
     "output_type": "execute_result"
    }
   ],
   "source": [
    "choice(b)"
   ]
  },
  {
   "cell_type": "code",
   "execution_count": 47,
   "metadata": {},
   "outputs": [
    {
     "name": "stdout",
     "output_type": "stream",
     "text": [
      "None\n"
     ]
    },
    {
     "data": {
      "text/plain": [
       "['A', '2', '3', '4', '5', '6', '7', '8', '9', '10', 'J', 'Q', 'K']"
      ]
     },
     "execution_count": 47,
     "metadata": {},
     "output_type": "execute_result"
    }
   ],
   "source": [
    "print(shuffle(valores[:]))\n",
    "valores"
   ]
  },
  {
   "cell_type": "code",
   "execution_count": 48,
   "metadata": {},
   "outputs": [
    {
     "data": {
      "text/plain": [
       "<Baralho com 5 cartas>"
      ]
     },
     "execution_count": 48,
     "metadata": {},
     "output_type": "execute_result"
    }
   ],
   "source": [
    "shuffle(b)\n",
    "b[:5]"
   ]
  },
  {
   "cell_type": "code",
   "execution_count": 49,
   "metadata": {},
   "outputs": [
    {
     "data": {
      "text/plain": [
       "<Baralho com 49 cartas>"
      ]
     },
     "execution_count": 49,
     "metadata": {},
     "output_type": "execute_result"
    }
   ],
   "source": [
    "b = Baralho()\n",
    "b[3:]"
   ]
  }
 ],
 "metadata": {
  "kernelspec": {
   "display_name": "Python 3",
   "language": "python",
   "name": "python3"
  },
  "language_info": {
   "codemirror_mode": {
    "name": "ipython",
    "version": 3
   },
   "file_extension": ".py",
   "mimetype": "text/x-python",
   "name": "python",
   "nbconvert_exporter": "python",
   "pygments_lexer": "ipython3",
   "version": "3.6.1"
  }
 },
 "nbformat": 4,
 "nbformat_minor": 2
}
